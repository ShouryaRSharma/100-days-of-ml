{
 "cells": [
  {
   "cell_type": "markdown",
   "id": "4905093b7eb61e4c",
   "metadata": {
    "collapsed": false
   },
   "source": [
    "# Deep Dive into Coefficients\n",
    "|standing if a particular feature or co-efficient is going to affect our linear models in a significant way - i.e if it useful to include said feature or not. To do this, we can use t-tests and wald's tests. "
   ]
  },
  {
   "cell_type": "markdown",
   "id": "f8d213796a8b7abe",
   "metadata": {
    "collapsed": false
   },
   "source": [
    "## Data Preprocessing\n",
    "\n",
    "This time, for example, let's see if Gender has a significant affect on our logistic regression model in the social_network_ads dataset."
   ]
  },
  {
   "cell_type": "code",
   "execution_count": 25,
   "id": "934124f78d4634b3",
   "metadata": {
    "ExecuteTime": {
     "end_time": "2024-05-19T12:42:22.719302Z",
     "start_time": "2024-05-19T12:42:22.705208Z"
    },
    "collapsed": false
   },
   "outputs": [
    {
     "data": {
      "text/plain": "((300, 3), (100, 3), (300,), (100,))"
     },
     "execution_count": 25,
     "metadata": {},
     "output_type": "execute_result"
    }
   ],
   "source": [
    "import pandas as pd\n",
    "from ml_code.utils import load_data\n",
    "from sklearn.compose import ColumnTransformer\n",
    "from sklearn.preprocessing import StandardScaler, OneHotEncoder\n",
    "from sklearn.model_selection import train_test_split\n",
    "import statsmodels.api as sm\n",
    "from sklearn.metrics import accuracy_score, precision_score, recall_score, f1_score\n",
    "\n",
    "# Load the dataset\n",
    "data = load_data(\"Social_Network_Ads.csv\")\n",
    "\n",
    "# Preprocess the data with the \"Gender\" feature\n",
    "transformer_with_gender = ColumnTransformer(\n",
    "    transformers=[\n",
    "        (\"scaler\", StandardScaler(), [\"Age\", \"EstimatedSalary\"]),\n",
    "        (\"encoder\", OneHotEncoder(drop=\"first\"), [\"Gender\"]),\n",
    "    ],\n",
    "    remainder=\"drop\",\n",
    ")\n",
    "\n",
    "features_with_gender = transformer_with_gender.fit_transform(data)\n",
    "target = data[\"Purchased\"]\n",
    "\n",
    "# Split the data into training and testing sets\n",
    "X_train_with_gender, X_test_with_gender, y_train, y_test = train_test_split(\n",
    "    features_with_gender, target, test_size=0.25, random_state=0\n",
    ")\n",
    "\n",
    "X_train_with_gender.shape, X_test_with_gender.shape, y_train.shape, y_test.shape"
   ]
  },
  {
   "cell_type": "markdown",
   "id": "ee1a7318aacced91",
   "metadata": {
    "collapsed": false
   },
   "source": [
    "## Training the model"
   ]
  },
  {
   "cell_type": "code",
   "execution_count": 26,
   "id": "670381e2fc5c41c6",
   "metadata": {
    "ExecuteTime": {
     "end_time": "2024-05-19T12:42:22.733488Z",
     "start_time": "2024-05-19T12:42:22.715429Z"
    },
    "collapsed": false
   },
   "outputs": [
    {
     "name": "stdout",
     "output_type": "stream",
     "text": [
      "Optimization terminated successfully.\n",
      "         Current function value: 0.371191\n",
      "         Iterations 7\n"
     ]
    }
   ],
   "source": [
    "feature_names = [\"Age\", \"EstimatedSalary\", \"Gender_Male\"]\n",
    "# Add a constant term to the features\n",
    "X_train_with_gender_sm = sm.add_constant(X_train_with_gender)\n",
    "\n",
    "# Create a DataFrame with the feature names\n",
    "X_train_with_gender_df = pd.DataFrame(\n",
    "    X_train_with_gender_sm, columns=[\"const\"] + feature_names, index=y_train.index\n",
    ")\n",
    "\n",
    "# Train a logistic regression model with the \"Gender\" feature using statsmodels\n",
    "model_with_gender_sm = sm.Logit(y_train, X_train_with_gender_df)\n",
    "results_with_gender_sm = model_with_gender_sm.fit()"
   ]
  },
  {
   "cell_type": "markdown",
   "id": "546da4672f39f0d4",
   "metadata": {
    "collapsed": false
   },
   "source": [
    "## Evaluating the co-efficient performance"
   ]
  },
  {
   "cell_type": "code",
   "execution_count": 27,
   "id": "3f971d5b8907077a",
   "metadata": {
    "ExecuteTime": {
     "end_time": "2024-05-19T12:42:22.750638Z",
     "start_time": "2024-05-19T12:42:22.721321Z"
    },
    "collapsed": false
   },
   "outputs": [
    {
     "name": "stdout",
     "output_type": "stream",
     "text": [
      "                           Logit Regression Results                           \n",
      "==============================================================================\n",
      "Dep. Variable:              Purchased   No. Observations:                  300\n",
      "Model:                          Logit   Df Residuals:                      296\n",
      "Method:                           MLE   Df Model:                            3\n",
      "Date:                Sun, 19 May 2024   Pseudo R-squ.:                  0.4367\n",
      "Time:                        13:42:22   Log-Likelihood:                -111.36\n",
      "converged:                       True   LL-Null:                       -197.69\n",
      "Covariance Type:            nonrobust   LLR p-value:                 3.393e-37\n",
      "===================================================================================\n",
      "                      coef    std err          z      P>|z|      [0.025      0.975]\n",
      "-----------------------------------------------------------------------------------\n",
      "const              -1.2313      0.268     -4.594      0.000      -1.757      -0.706\n",
      "Age                 2.3791      0.305      7.791      0.000       1.781       2.978\n",
      "EstimatedSalary     1.2091      0.207      5.844      0.000       0.804       1.615\n",
      "Gender_Male         0.2324      0.339      0.687      0.492      -0.431       0.896\n",
      "===================================================================================\n"
     ]
    }
   ],
   "source": [
    "print(results_with_gender_sm.summary())"
   ]
  },
  {
   "cell_type": "markdown",
   "id": "8e6c14120c120916",
   "metadata": {
    "collapsed": false
   },
   "source": [
    "Coefficients (coef):\n",
    "\n",
    "- const: The intercept term is -1.2313, indicating the baseline log-odds of purchasing when all other predictors are zero.\n",
    "- Age: The coefficient for Age is 2.3791, suggesting that a one-unit increase in Age is associated with an increase of 2.3791 in the log-odds of purchasing, holding other predictors constant.\n",
    "- EstimatedSalary: The coefficient for EstimatedSalary is 1.2091, indicating that a one-unit increase in EstimatedSalary is associated with an increase of 1.2091 in the log-odds of purchasing, holding other predictors constant.\n",
    "- Gender_Male: The coefficient for Gender_Male is 0.2324, suggesting that being male is associated with an increase of 0.2324 in the log-odds of purchasing compared to being female, holding other predictors constant.\n",
    "\n",
    "\n",
    "Standard Errors (std err):\n",
    "\n",
    "The standard errors quantify the uncertainty in the coefficient estimates. Smaller standard errors indicate more precise estimates.\n",
    "\n",
    "\n",
    "Z-values (z):\n",
    "\n",
    "The z-values are the Wald test statistics, calculated as the coefficient divided by its standard error.\n",
    "- For Age, the z-value is 7.791, indicating a strong positive effect on the probability of purchasing.\n",
    "- For EstimatedSalary, the z-value is 5.844, suggesting a significant positive effect on the probability of purchasing.\n",
    "- For Gender_Male, the z-value is 0.687, indicating a weaker and not statistically significant effect on the probability of purchasing.\n",
    "\n",
    "\n",
    "P-values (P>|z|):\n",
    "\n",
    "The p-values indicate the statistical significance of each predictor.\n",
    "- For Age, and EstimatedSalary, the p-values are 0.000, suggesting strong evidence against the null hypothesis that the coefficients are zero.\n",
    "- For Gender_Male, the p-value is 0.492, indicating that the effect of gender is not statistically significant at the conventional 0.05 level."
   ]
  },
  {
   "cell_type": "code",
   "execution_count": 28,
   "id": "736feeb4c5e31c54",
   "metadata": {
    "ExecuteTime": {
     "end_time": "2024-05-19T12:42:22.751743Z",
     "start_time": "2024-05-19T12:42:22.730439Z"
    },
    "collapsed": false
   },
   "outputs": [
    {
     "name": "stdout",
     "output_type": "stream",
     "text": [
      "\n",
      "Model Performance:\n",
      "Accuracy: 0.91\n",
      "Precision: 0.896551724137931\n",
      "Recall: 0.8125\n",
      "F1-score: 0.8524590163934426\n"
     ]
    }
   ],
   "source": [
    "X_test_with_gender_df = pd.DataFrame(X_test_with_gender, columns=feature_names)\n",
    "\n",
    "# Add a constant term to the test features\n",
    "X_test_with_gender_sm = sm.add_constant(X_test_with_gender_df)\n",
    "\n",
    "# Get the predicted probabilities and predicted classes\n",
    "y_pred_prob = results_with_gender_sm.predict(X_test_with_gender_sm)\n",
    "y_pred_class = (y_pred_prob > 0.5).astype(int)\n",
    "\n",
    "# Calculate accuracy\n",
    "accuracy = accuracy_score(y_test, y_pred_class)\n",
    "print(\"\\nModel Performance:\")\n",
    "print(\"Accuracy:\", accuracy)\n",
    "\n",
    "# Calculate precision\n",
    "precision = precision_score(y_test, y_pred_class)\n",
    "print(\"Precision:\", precision)\n",
    "\n",
    "# Calculate recall\n",
    "recall = recall_score(y_test, y_pred_class)\n",
    "print(\"Recall:\", recall)\n",
    "\n",
    "# Calculate F1-score\n",
    "f1 = f1_score(y_test, y_pred_class)\n",
    "print(\"F1-score:\", f1)"
   ]
  }
 ],
 "metadata": {
  "kernelspec": {
   "display_name": "Python 3",
   "language": "python",
   "name": "python3"
  },
  "language_info": {
   "codemirror_mode": {
    "name": "ipython",
    "version": 2
   },
   "file_extension": ".py",
   "mimetype": "text/x-python",
   "name": "python",
   "nbconvert_exporter": "python",
   "pygments_lexer": "ipython2",
   "version": "2.7.6"
  }
 },
 "nbformat": 4,
 "nbformat_minor": 5
}
