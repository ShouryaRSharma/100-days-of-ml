{
 "cells": [
  {
   "cell_type": "markdown",
   "id": "84415bba5fd42c48",
   "metadata": {
    "collapsed": false
   },
   "source": [
    "## Step 1: Importing the libraries"
   ]
  },
  {
   "cell_type": "code",
   "execution_count": 104,
   "id": "305174bb9be2970",
   "metadata": {
    "ExecuteTime": {
     "end_time": "2024-05-12T18:13:15.349099Z",
     "start_time": "2024-05-12T18:13:15.337118Z"
    },
    "collapsed": false
   },
   "outputs": [],
   "source": [
    "import numpy as np\n",
    "from ml_code.utils import load_data"
   ]
  },
  {
   "cell_type": "markdown",
   "id": "cac0e8d284914737",
   "metadata": {
    "collapsed": false
   },
   "source": [
    "## Step 2: Importing dataset"
   ]
  },
  {
   "cell_type": "code",
   "execution_count": 105,
   "id": "2ad5de3a7ad8924f",
   "metadata": {
    "ExecuteTime": {
     "end_time": "2024-05-12T18:13:16.069157Z",
     "start_time": "2024-05-12T18:13:16.058482Z"
    },
    "collapsed": false
   },
   "outputs": [
    {
     "data": {
      "text/html": "<div>\n<style scoped>\n    .dataframe tbody tr th:only-of-type {\n        vertical-align: middle;\n    }\n\n    .dataframe tbody tr th {\n        vertical-align: top;\n    }\n\n    .dataframe thead th {\n        text-align: right;\n    }\n</style>\n<table border=\"1\" class=\"dataframe\">\n  <thead>\n    <tr style=\"text-align: right;\">\n      <th></th>\n      <th>Country</th>\n      <th>Age</th>\n      <th>Salary</th>\n      <th>Purchased</th>\n    </tr>\n  </thead>\n  <tbody>\n    <tr>\n      <th>0</th>\n      <td>France</td>\n      <td>44.0</td>\n      <td>72000.0</td>\n      <td>No</td>\n    </tr>\n    <tr>\n      <th>1</th>\n      <td>Spain</td>\n      <td>27.0</td>\n      <td>48000.0</td>\n      <td>Yes</td>\n    </tr>\n    <tr>\n      <th>2</th>\n      <td>Germany</td>\n      <td>30.0</td>\n      <td>54000.0</td>\n      <td>No</td>\n    </tr>\n    <tr>\n      <th>3</th>\n      <td>Spain</td>\n      <td>38.0</td>\n      <td>61000.0</td>\n      <td>No</td>\n    </tr>\n    <tr>\n      <th>4</th>\n      <td>Germany</td>\n      <td>40.0</td>\n      <td>NaN</td>\n      <td>Yes</td>\n    </tr>\n  </tbody>\n</table>\n</div>",
      "text/plain": "   Country   Age   Salary Purchased\n0   France  44.0  72000.0        No\n1    Spain  27.0  48000.0       Yes\n2  Germany  30.0  54000.0        No\n3    Spain  38.0  61000.0        No\n4  Germany  40.0      NaN       Yes"
     },
     "execution_count": 105,
     "metadata": {},
     "output_type": "execute_result"
    }
   ],
   "source": [
    "dataset = load_data(\"basic_data.csv\")\n",
    "dataset.head()"
   ]
  },
  {
   "cell_type": "markdown",
   "id": "2d69cbf154614bea",
   "metadata": {
    "collapsed": false
   },
   "source": [
    "### Step 2.1: Extracting features and labels"
   ]
  },
  {
   "cell_type": "code",
   "execution_count": 106,
   "id": "413f7d99e8eb62c8",
   "metadata": {
    "ExecuteTime": {
     "end_time": "2024-05-12T18:13:16.974906Z",
     "start_time": "2024-05-12T18:13:16.971495Z"
    },
    "collapsed": false
   },
   "outputs": [
    {
     "data": {
      "text/plain": "array([['France', 44.0, 72000.0],\n       ['Spain', 27.0, 48000.0],\n       ['Germany', 30.0, 54000.0],\n       ['Spain', 38.0, 61000.0],\n       ['Germany', 40.0, nan],\n       ['France', 35.0, 58000.0],\n       ['Spain', nan, 52000.0],\n       ['France', 48.0, 79000.0],\n       ['Germany', 50.0, 83000.0],\n       ['France', 37.0, 67000.0]], dtype=object)"
     },
     "execution_count": 106,
     "metadata": {},
     "output_type": "execute_result"
    }
   ],
   "source": [
    "features = dataset.iloc[:, :-1].values\n",
    "features"
   ]
  },
  {
   "cell_type": "code",
   "execution_count": 107,
   "id": "e965a46d4075662",
   "metadata": {
    "ExecuteTime": {
     "end_time": "2024-05-12T18:13:17.377948Z",
     "start_time": "2024-05-12T18:13:17.361532Z"
    },
    "collapsed": false
   },
   "outputs": [
    {
     "data": {
      "text/plain": "array(['No', 'Yes', 'No', 'No', 'Yes', 'Yes', 'No', 'Yes', 'No', 'Yes'],\n      dtype=object)"
     },
     "execution_count": 107,
     "metadata": {},
     "output_type": "execute_result"
    }
   ],
   "source": [
    "labels = dataset.iloc[:, -1].values\n",
    "labels"
   ]
  },
  {
   "cell_type": "markdown",
   "id": "4763a4f2f0f317ab",
   "metadata": {
    "collapsed": false
   },
   "source": [
    "## Step 3: Preprocessing the missing data"
   ]
  },
  {
   "cell_type": "markdown",
   "id": "3f08162534c3efa1",
   "metadata": {
    "collapsed": false
   },
   "source": [
    "### Step 3.1: Handling missing data"
   ]
  },
  {
   "cell_type": "code",
   "execution_count": 108,
   "id": "eb4d5349f843bc2",
   "metadata": {
    "ExecuteTime": {
     "end_time": "2024-05-12T18:13:19.075314Z",
     "start_time": "2024-05-12T18:13:19.068477Z"
    },
    "collapsed": false
   },
   "outputs": [
    {
     "data": {
      "text/plain": "array([['France', 44.0, 72000.0],\n       ['Spain', 27.0, 48000.0],\n       ['Germany', 30.0, 54000.0],\n       ['Spain', 38.0, 61000.0],\n       ['Germany', 40.0, 63777.77777777778],\n       ['France', 35.0, 58000.0],\n       ['Spain', 38.77777777777778, 52000.0],\n       ['France', 48.0, 79000.0],\n       ['Germany', 50.0, 83000.0],\n       ['France', 37.0, 67000.0]], dtype=object)"
     },
     "execution_count": 108,
     "metadata": {},
     "output_type": "execute_result"
    }
   ],
   "source": [
    "from sklearn.impute import SimpleImputer\n",
    "\n",
    "imputer = SimpleImputer(missing_values=np.nan, strategy=\"mean\")\n",
    "imputer.fit(features[:, 1:3])\n",
    "features[:, 1:3] = imputer.transform(features[:, 1:3])\n",
    "\n",
    "features"
   ]
  },
  {
   "cell_type": "markdown",
   "id": "2993a928b7bc3fc4",
   "metadata": {
    "collapsed": false
   },
   "source": [
    "### Step 3.2: Encoding the features"
   ]
  },
  {
   "cell_type": "code",
   "execution_count": 109,
   "id": "5486d38118da44ea",
   "metadata": {
    "ExecuteTime": {
     "end_time": "2024-05-12T18:13:20.197454Z",
     "start_time": "2024-05-12T18:13:20.189095Z"
    },
    "collapsed": false
   },
   "outputs": [
    {
     "data": {
      "text/plain": "array([[1.0, 0.0, 0.0, 44.0, 72000.0],\n       [0.0, 0.0, 1.0, 27.0, 48000.0],\n       [0.0, 1.0, 0.0, 30.0, 54000.0],\n       [0.0, 0.0, 1.0, 38.0, 61000.0],\n       [0.0, 1.0, 0.0, 40.0, 63777.77777777778],\n       [1.0, 0.0, 0.0, 35.0, 58000.0],\n       [0.0, 0.0, 1.0, 38.77777777777778, 52000.0],\n       [1.0, 0.0, 0.0, 48.0, 79000.0],\n       [0.0, 1.0, 0.0, 50.0, 83000.0],\n       [1.0, 0.0, 0.0, 37.0, 67000.0]], dtype=object)"
     },
     "execution_count": 109,
     "metadata": {},
     "output_type": "execute_result"
    }
   ],
   "source": [
    "from sklearn.compose import ColumnTransformer\n",
    "from sklearn.preprocessing import OneHotEncoder\n",
    "\n",
    "# Transform the categorical features using one-hot encoding\n",
    "preprocessor = ColumnTransformer(\n",
    "    transformers=[\n",
    "        (\"onehot\", OneHotEncoder(), [0]),\n",
    "        (\"passthrough\", \"passthrough\", [1, 2]),\n",
    "    ]\n",
    ")\n",
    "\n",
    "features_encoded = preprocessor.fit_transform(features)\n",
    "features_encoded"
   ]
  },
  {
   "cell_type": "markdown",
   "id": "3bc8062952aa80ce",
   "metadata": {
    "collapsed": false
   },
   "source": [
    "### Step 3.3: Encoding the labels"
   ]
  },
  {
   "cell_type": "code",
   "execution_count": 110,
   "id": "2357215032560c91",
   "metadata": {
    "ExecuteTime": {
     "end_time": "2024-05-12T18:13:23.451609Z",
     "start_time": "2024-05-12T18:13:23.445720Z"
    },
    "collapsed": false
   },
   "outputs": [],
   "source": [
    "from sklearn.preprocessing import LabelEncoder\n",
    "\n",
    "label_encoder = LabelEncoder()\n",
    "labels_encoded = label_encoder.fit_transform(labels)"
   ]
  },
  {
   "cell_type": "code",
   "execution_count": 111,
   "id": "2b46a833cccdc093",
   "metadata": {
    "ExecuteTime": {
     "end_time": "2024-05-12T18:13:24.510358Z",
     "start_time": "2024-05-12T18:13:24.504133Z"
    },
    "collapsed": false
   },
   "outputs": [
    {
     "data": {
      "text/plain": "array([0, 1, 0, 0, 1, 1, 0, 1, 0, 1])"
     },
     "execution_count": 111,
     "metadata": {},
     "output_type": "execute_result"
    }
   ],
   "source": [
    "labels_encoded"
   ]
  },
  {
   "cell_type": "markdown",
   "id": "8f63bf5f33cdd431",
   "metadata": {
    "collapsed": false
   },
   "source": [
    "## Step 4: Splitting the dataset into the Training set and Test set"
   ]
  },
  {
   "cell_type": "code",
   "execution_count": 112,
   "id": "58cda34e3e10a65b",
   "metadata": {
    "ExecuteTime": {
     "end_time": "2024-05-12T18:13:27.200075Z",
     "start_time": "2024-05-12T18:13:27.195061Z"
    },
    "collapsed": false
   },
   "outputs": [
    {
     "name": "stdout",
     "output_type": "stream",
     "text": [
      "Training data shape: (8, 5)\n",
      "Test data shape: (2, 5)\n",
      "Training labels shape: (8,)\n",
      "Test labels shape: (2,)\n",
      "Example of training data: [0.0 1.0 0.0 40.0 63777.77777777778]\n"
     ]
    }
   ],
   "source": [
    "from sklearn.model_selection import train_test_split\n",
    "\n",
    "features_train, features_test, labels_train, labels_test = train_test_split(\n",
    "    features_encoded, labels_encoded, test_size=0.2, random_state=0\n",
    ")\n",
    "\n",
    "print(\n",
    "    f\"Training data shape: {features_train.shape}\\nTest data shape: {features_test.shape}\"\n",
    ")\n",
    "print(\n",
    "    f\"Training labels shape: {labels_train.shape}\\nTest labels shape: {labels_test.shape}\"\n",
    ")\n",
    "\n",
    "print(f\"Example of training data: {features_train[0]}\")"
   ]
  },
  {
   "cell_type": "markdown",
   "id": "65232960a8d85a10",
   "metadata": {
    "collapsed": false
   },
   "source": [
    "## Step 5: Feature Scaling\n",
    "\n",
    "'Age' and 'Salary' columns have different ranges of values. 'Age' ranges from 27 to 50, while 'Salary' ranges from 48000 to 83000. Min-Max scaling will scale both features to a similar range (typically between 0 and 1), making them comparable and preventing one feature from dominating the other due to the difference in magnitude."
   ]
  },
  {
   "cell_type": "code",
   "execution_count": 114,
   "id": "80d972eedefea212",
   "metadata": {
    "ExecuteTime": {
     "end_time": "2024-05-12T18:13:58.113883Z",
     "start_time": "2024-05-12T18:13:58.107963Z"
    },
    "collapsed": false
   },
   "outputs": [
    {
     "data": {
      "text/plain": "array([[0.6190476190476191, 0.5089605734767026, 0.0, 1.0, 0.0],\n       [0.4761904761904763, 0.612903225806452, 1.0, 0.0, 0.0],\n       [0.0, 0.0, 0.0, 0.0, 1.0],\n       [0.5608465608465609, 0.12903225806451624, 0.0, 0.0, 1.0],\n       [1.0, 1.0, 1.0, 0.0, 0.0],\n       [0.5238095238095237, 0.4193548387096775, 0.0, 0.0, 1.0],\n       [0.8095238095238093, 0.774193548387097, 1.0, 0.0, 0.0],\n       [0.38095238095238093, 0.3225806451612905, 1.0, 0.0, 0.0]],\n      dtype=object)"
     },
     "execution_count": 114,
     "metadata": {},
     "output_type": "execute_result"
    }
   ],
   "source": [
    "from sklearn.preprocessing import MinMaxScaler\n",
    "\n",
    "scaler = ColumnTransformer(\n",
    "    transformers=[\n",
    "        (\"scaler\", MinMaxScaler(), [3, 4]),\n",
    "        (\"passthrough\", \"passthrough\", [0, 1, 2]),\n",
    "    ]\n",
    ")\n",
    "\n",
    "features_train_scaled = scaler.fit_transform(features_train)\n",
    "features_test_scaled = scaler.transform(features_test)"
   ]
  }
 ],
 "metadata": {
  "kernelspec": {
   "display_name": "Python 3",
   "language": "python",
   "name": "python3"
  },
  "language_info": {
   "codemirror_mode": {
    "name": "ipython",
    "version": 2
   },
   "file_extension": ".py",
   "mimetype": "text/x-python",
   "name": "python",
   "nbconvert_exporter": "python",
   "pygments_lexer": "ipython2",
   "version": "2.7.6"
  }
 },
 "nbformat": 4,
 "nbformat_minor": 5
}
